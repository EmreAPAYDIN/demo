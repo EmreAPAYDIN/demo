{
  "nbformat": 4,
  "nbformat_minor": 0,
  "metadata": {
    "colab": {
      "name": "bayesTeoremi.ipynb",
      "version": "0.3.2",
      "provenance": [],
      "include_colab_link": true
    },
    "kernelspec": {
      "name": "python3",
      "display_name": "Python 3"
    }
  },
  "cells": [
    {
      "cell_type": "markdown",
      "metadata": {
        "id": "view-in-github",
        "colab_type": "text"
      },
      "source": [
        "<a href=\"https://colab.research.google.com/github/EmreAPAYDIN/phyton/blob/master/bayesTeoremi.ipynb\" target=\"_parent\"><img src=\"https://colab.research.google.com/assets/colab-badge.svg\" alt=\"Open In Colab\"/></a>"
      ]
    },
    {
      "metadata": {
        "id": "9h4wH0hRNYlK",
        "colab_type": "code",
        "colab": {}
      },
      "cell_type": "code",
      "source": [
        ""
      ],
      "execution_count": 0,
      "outputs": []
    },
    {
      "metadata": {
        "id": "mP9uKIR9NfoB",
        "colab_type": "text"
      },
      "cell_type": "markdown",
      "source": [
        "ODEV 3 BAYES TEOREMI\n",
        "Enes Celik (186112004)\n",
        "\n",
        "Bir siniftaki ogrencilerin %40’i erkektir. \n",
        "Erkeklerin %30, kizlarin %20’si fizikten kalmistir.\n",
        "Secilen bir ogrencinin fizikten kaldigi bilindigine gore,\n",
        "bu ogrencinin erkek olma olasiligi nedir? veya\n",
        "bu ogrencinin kiz olma olasiligi nedir?\n",
        "\n",
        "\n",
        "                                     \n",
        "Olasilik Degeri  = Olay (Erkekler) / Ornek Uzay (Fizikten Kalanlar)\n",
        "\n",
        "Degiskenler\n",
        "maleRate: Siniftaki erkek orani\n",
        "femaleRate: Siniftaki kiz orani\n",
        "remainingMaleRate: Fizikten kalan erkek orani\n",
        "remainingFemaleRate: Fizikten kalan kiz orani\n",
        "passingMaleRate: Fizikten gecen erkek orani\n",
        "passingFemaleRate: Fizikten gecen kiz orani\n",
        "probabilityMale: Fizikten kalan öğrencinin erkek olma olasiligi\n",
        "probabilityFemale: Fizikten kalan öğrencinin kiz olma olasiligi"
      ]
    },
    {
      "metadata": {
        "id": "bxn82A2eOF_3",
        "colab_type": "code",
        "colab": {
          "base_uri": "https://localhost:8080/",
          "height": 263
        },
        "outputId": "073400c2-a48d-478e-a6fe-5a70dd10c256"
      },
      "cell_type": "code",
      "source": [
        "maleRate = int (input(\"siniftaki ogrencilerin yuzde kaci erkek: \"))\n",
        "remainingMaleRate = int (input(\"siniftaki erkeklerin yuzde kaci fizik dersinden kalmistir: \"))\n",
        "remainingFemaleRate = int (input(\"siniftaki kizlarin yuzde kaci fizik dersinden kalmistir: \"))\n",
        "\n",
        "femaleRate = int (100 - maleRate)\n",
        "print(\"\\n siniftaki ogrencilerin yuzde \",femaleRate,\" kizdir\")\n",
        "\n",
        "passingMaleRate = 100 - remainingMaleRate\n",
        "passingFemaleRate = 100 - remainingFemaleRate\n",
        "\n",
        "print(\"\\n siniftaki erkeklerin yuzde \",passingMaleRate,\" fizik dersinden gecmistir\")\n",
        "print(\"\\n siniftaki kizlarin yuzde \",passingFemaleRate,\" fizik dersinden gecmistir\")\n",
        "\n",
        "probabilityMale = (maleRate*remainingMaleRate)/((maleRate*remainingMaleRate)+(femaleRate*remainingFemaleRate))\n",
        "probabilityFemale = (femaleRate*remainingFemaleRate)/((maleRate*remainingMaleRate)+(femaleRate*remainingFemaleRate))\n",
        "\n",
        "print(\"\\n secilen bir ogrencinin fizikten kaldigi biliniyorsa erkek olma olasiligi: \",probabilityMale)\n",
        "print(\"\\n secilen bir ogrencinin fizikten kaldigi biliniyorsa kiz olma olasiligi: \",probabilityFemale)"
      ],
      "execution_count": 1,
      "outputs": [
        {
          "output_type": "stream",
          "text": [
            "siniftaki ogrencilerin yuzde kaci erkek: 10\n",
            "siniftaki erkeklerin yuzde kaci fizik dersinden kalmistir: 35\n",
            "siniftaki kizlarin yuzde kaci fizik dersinden kalmistir: 24\n",
            "\n",
            " siniftaki ogrencilerin yuzde  90  kizdir\n",
            "\n",
            " siniftaki erkeklerin yuzde  65  fizik dersinden gecmistir\n",
            "\n",
            " siniftaki kizlarin yuzde  76  fizik dersinden gecmistir\n",
            "\n",
            " secilen bir ogrencinin fizikten kaldigi biliniyorsa erkek olma olasiligi:  0.1394422310756972\n",
            "\n",
            " secilen bir ogrencinin fizikten kaldigi biliniyorsa kiz olma olasiligi:  0.8605577689243028\n"
          ],
          "name": "stdout"
        }
      ]
    }
  ]
}