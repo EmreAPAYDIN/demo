{
  "nbformat": 4,
  "nbformat_minor": 0,
  "metadata": {
    "colab": {
      "name": "kmTomile.ipynb",
      "version": "0.3.2",
      "provenance": [],
      "include_colab_link": true
    },
    "kernelspec": {
      "name": "python3",
      "display_name": "Python 3"
    }
  },
  "cells": [
    {
      "cell_type": "markdown",
      "metadata": {
        "id": "view-in-github",
        "colab_type": "text"
      },
      "source": [
        "<a href=\"https://colab.research.google.com/github/EmreAPAYDIN/phyton/blob/master/kmTomile.ipynb\" target=\"_parent\"><img src=\"https://colab.research.google.com/assets/colab-badge.svg\" alt=\"Open In Colab\"/></a>"
      ]
    },
    {
      "metadata": {
        "id": "DDxvtj5-NA_7",
        "colab_type": "code",
        "colab": {
          "base_uri": "https://localhost:8080/",
          "height": 52
        },
        "outputId": "7a9e8953-5850-4ae0-e28b-f032f34761d3"
      },
      "cell_type": "code",
      "source": [
        "oran=0.621371192 #1 km 0.521371192 mil eder\n",
        "km=int(input(\"km değerini giriniz:\"))\n",
        "mile=km*oran\n",
        "print(km,\"km\",mile,\"mil eder\")\n"
      ],
      "execution_count": 9,
      "outputs": [
        {
          "output_type": "stream",
          "text": [
            "km değerini giriniz:10\n",
            "10 km 6.21371192 mil eder\n"
          ],
          "name": "stdout"
        }
      ]
    }
  ]
}