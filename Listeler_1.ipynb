{
  "nbformat": 4,
  "nbformat_minor": 0,
  "metadata": {
    "colab": {
      "name": "Listeler_1.ipynb",
      "version": "0.3.2",
      "provenance": [],
      "include_colab_link": true
    },
    "kernelspec": {
      "name": "python3",
      "display_name": "Python 3"
    }
  },
  "cells": [
    {
      "cell_type": "markdown",
      "metadata": {
        "id": "view-in-github",
        "colab_type": "text"
      },
      "source": [
        "<a href=\"https://colab.research.google.com/github/EmreAPAYDIN/phyton/blob/master/Listeler_1.ipynb\" target=\"_parent\"><img src=\"https://colab.research.google.com/assets/colab-badge.svg\" alt=\"Open In Colab\"/></a>"
      ]
    },
    {
      "metadata": {
        "id": "Vyw4yOPanf_t",
        "colab_type": "code",
        "colab": {}
      },
      "cell_type": "code",
      "source": [
        ""
      ],
      "execution_count": 0,
      "outputs": []
    },
    {
      "metadata": {
        "id": "UoTZ5Uf-ngjc",
        "colab_type": "text"
      },
      "cell_type": "markdown",
      "source": [
        "# Listeler\n",
        "Listeler sıralı ve indexli veri tipleridir.\n",
        "\n",
        "2 şeklide tanımlanabilir.\n",
        "\n",
        "1-Köseli parantez ile--> öğrenciler=[\"ahmet\",\"mehmet\",\"ayşe\"]\n",
        "\n",
        "2-list constructor ile-->öğrenciler=list((\"ahmet\",\"mehmet\"))\n",
        "\n"
      ]
    },
    {
      "metadata": {
        "id": "KF1hDFbHoIEJ",
        "colab_type": "code",
        "colab": {}
      },
      "cell_type": "code",
      "source": [
        "ogrenciler=[\"ahmet\",\"mehmet\",\"ayse\"]\n",
        "print(ogrenciler)\n",
        "ogrenciler.append(\"fatma\") #listeye elaman append komutu ile eklenir.\n",
        "print(ogrenciler)\n",
        "print(ogrenciler[2]) #listenin 2.indisindeki veriyi yazar\n",
        "ogrenciler.remove(\"mehmet\") #listeden mehmeti çıkardı\n",
        "print(ogrenciler)\n",
        "ogrenciler.remove(ogrenciler[2])\n",
        "print(ogrenciler)\n",
        "\n",
        "sehirler=list((\"ankara\",\"giresun\",\"sivas\")) #list constructor kullanımı\n",
        "print(sehirler)\n",
        "print(len(sehirler)) #listenin eleman sayısı len fonk. ile bulunur"
      ],
      "execution_count": 0,
      "outputs": []
    }
  ]
}