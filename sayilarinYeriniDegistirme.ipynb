{
  "nbformat": 4,
  "nbformat_minor": 0,
  "metadata": {
    "colab": {
      "name": "sayilarinYeriniDegistirme.ipynb",
      "version": "0.3.2",
      "provenance": [],
      "include_colab_link": true
    },
    "kernelspec": {
      "name": "python3",
      "display_name": "Python 3"
    }
  },
  "cells": [
    {
      "cell_type": "markdown",
      "metadata": {
        "id": "view-in-github",
        "colab_type": "text"
      },
      "source": [
        "<a href=\"https://colab.research.google.com/github/EmreAPAYDIN/phyton/blob/master/sayilarinYeriniDegistirme.ipynb\" target=\"_parent\"><img src=\"https://colab.research.google.com/assets/colab-badge.svg\" alt=\"Open In Colab\"/></a>"
      ]
    },
    {
      "metadata": {
        "id": "XZVmiKKOH9WF",
        "colab_type": "code",
        "colab": {
          "base_uri": "https://localhost:8080/",
          "height": 52
        },
        "outputId": "975ed812-583b-488c-da57-49fbbd7fcd92"
      },
      "cell_type": "code",
      "source": [
        "x=10\n",
        "y=20\n",
        "#temp=x\n",
        "#x=y\n",
        "#y=temp\n",
        "x,y=y,x #phytona özel bir kullanım\n",
        "print(\"x=\",x)\n",
        "print(\"y=\",y)"
      ],
      "execution_count": 5,
      "outputs": [
        {
          "output_type": "stream",
          "text": [
            "x= 20\n",
            "y= 10\n"
          ],
          "name": "stdout"
        }
      ]
    }
  ]
}